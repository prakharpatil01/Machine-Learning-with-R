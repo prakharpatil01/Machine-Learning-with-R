{
 "cells": [
  {
   "cell_type": "code",
   "execution_count": 3,
   "id": "8b05b945",
   "metadata": {},
   "outputs": [
    {
     "data": {
      "text/html": [
       "<table class=\"dataframe\">\n",
       "<caption>A data.frame: 6 × 5</caption>\n",
       "<thead>\n",
       "\t<tr><th></th><th scope=col>Sepal.Length</th><th scope=col>Sepal.Width</th><th scope=col>Petal.Length</th><th scope=col>Petal.Width</th><th scope=col>Species</th></tr>\n",
       "\t<tr><th></th><th scope=col>&lt;dbl&gt;</th><th scope=col>&lt;dbl&gt;</th><th scope=col>&lt;dbl&gt;</th><th scope=col>&lt;dbl&gt;</th><th scope=col>&lt;fct&gt;</th></tr>\n",
       "</thead>\n",
       "<tbody>\n",
       "\t<tr><th scope=row>1</th><td>5.1</td><td>3.5</td><td>1.4</td><td>0.2</td><td>setosa</td></tr>\n",
       "\t<tr><th scope=row>2</th><td>4.9</td><td>3.0</td><td>1.4</td><td>0.2</td><td>setosa</td></tr>\n",
       "\t<tr><th scope=row>3</th><td>4.7</td><td>3.2</td><td>1.3</td><td>0.2</td><td>setosa</td></tr>\n",
       "\t<tr><th scope=row>4</th><td>4.6</td><td>3.1</td><td>1.5</td><td>0.2</td><td>setosa</td></tr>\n",
       "\t<tr><th scope=row>5</th><td>5.0</td><td>3.6</td><td>1.4</td><td>0.2</td><td>setosa</td></tr>\n",
       "\t<tr><th scope=row>6</th><td>5.4</td><td>3.9</td><td>1.7</td><td>0.4</td><td>setosa</td></tr>\n",
       "</tbody>\n",
       "</table>\n"
      ],
      "text/latex": [
       "A data.frame: 6 × 5\n",
       "\\begin{tabular}{r|lllll}\n",
       "  & Sepal.Length & Sepal.Width & Petal.Length & Petal.Width & Species\\\\\n",
       "  & <dbl> & <dbl> & <dbl> & <dbl> & <fct>\\\\\n",
       "\\hline\n",
       "\t1 & 5.1 & 3.5 & 1.4 & 0.2 & setosa\\\\\n",
       "\t2 & 4.9 & 3.0 & 1.4 & 0.2 & setosa\\\\\n",
       "\t3 & 4.7 & 3.2 & 1.3 & 0.2 & setosa\\\\\n",
       "\t4 & 4.6 & 3.1 & 1.5 & 0.2 & setosa\\\\\n",
       "\t5 & 5.0 & 3.6 & 1.4 & 0.2 & setosa\\\\\n",
       "\t6 & 5.4 & 3.9 & 1.7 & 0.4 & setosa\\\\\n",
       "\\end{tabular}\n"
      ],
      "text/markdown": [
       "\n",
       "A data.frame: 6 × 5\n",
       "\n",
       "| <!--/--> | Sepal.Length &lt;dbl&gt; | Sepal.Width &lt;dbl&gt; | Petal.Length &lt;dbl&gt; | Petal.Width &lt;dbl&gt; | Species &lt;fct&gt; |\n",
       "|---|---|---|---|---|---|\n",
       "| 1 | 5.1 | 3.5 | 1.4 | 0.2 | setosa |\n",
       "| 2 | 4.9 | 3.0 | 1.4 | 0.2 | setosa |\n",
       "| 3 | 4.7 | 3.2 | 1.3 | 0.2 | setosa |\n",
       "| 4 | 4.6 | 3.1 | 1.5 | 0.2 | setosa |\n",
       "| 5 | 5.0 | 3.6 | 1.4 | 0.2 | setosa |\n",
       "| 6 | 5.4 | 3.9 | 1.7 | 0.4 | setosa |\n",
       "\n"
      ],
      "text/plain": [
       "  Sepal.Length Sepal.Width Petal.Length Petal.Width Species\n",
       "1 5.1          3.5         1.4          0.2         setosa \n",
       "2 4.9          3.0         1.4          0.2         setosa \n",
       "3 4.7          3.2         1.3          0.2         setosa \n",
       "4 4.6          3.1         1.5          0.2         setosa \n",
       "5 5.0          3.6         1.4          0.2         setosa \n",
       "6 5.4          3.9         1.7          0.4         setosa "
      ]
     },
     "metadata": {},
     "output_type": "display_data"
    }
   ],
   "source": [
    "datasets::iris -> data\n",
    "head(data)"
   ]
  },
  {
   "cell_type": "code",
   "execution_count": 4,
   "id": "a38d2b67",
   "metadata": {},
   "outputs": [
    {
     "data": {
      "text/plain": [
       "\n",
       "    setosa versicolor  virginica \n",
       "        50         50         50 "
      ]
     },
     "metadata": {},
     "output_type": "display_data"
    }
   ],
   "source": [
    "table(data$Species)"
   ]
  },
  {
   "cell_type": "code",
   "execution_count": 5,
   "id": "5d2c4ec2",
   "metadata": {},
   "outputs": [],
   "source": [
    "library(caTools)\n",
    "split = sample.split(data, SplitRatio = 0.7)\n",
    "test = subset(data,split == F)\n",
    "train = subset(data,split == T)"
   ]
  },
  {
   "cell_type": "code",
   "execution_count": 6,
   "id": "5e60c37c",
   "metadata": {},
   "outputs": [],
   "source": [
    "data$Species = as.factor(data$Species)"
   ]
  },
  {
   "cell_type": "code",
   "execution_count": 8,
   "id": "852645ec",
   "metadata": {},
   "outputs": [],
   "source": [
    "library(rpart)\n",
    "library(randomForest)"
   ]
  },
  {
   "cell_type": "code",
   "execution_count": 9,
   "id": "d2720ba4",
   "metadata": {},
   "outputs": [],
   "source": [
    "modle = randomForest(train$Species~.,train)"
   ]
  },
  {
   "cell_type": "code",
   "execution_count": 10,
   "id": "6b97dc58",
   "metadata": {},
   "outputs": [],
   "source": [
    "pre = predict(modle,newdata = test[-5])"
   ]
  },
  {
   "cell_type": "code",
   "execution_count": 11,
   "id": "f6460a36",
   "metadata": {},
   "outputs": [
    {
     "data": {
      "text/html": [
       "<table class=\"dataframe\">\n",
       "<caption>A data.frame: 60 × 2</caption>\n",
       "<thead>\n",
       "\t<tr><th></th><th scope=col>test.Species</th><th scope=col>pre</th></tr>\n",
       "\t<tr><th></th><th scope=col>&lt;fct&gt;</th><th scope=col>&lt;fct&gt;</th></tr>\n",
       "</thead>\n",
       "<tbody>\n",
       "\t<tr><th scope=row>3</th><td>setosa    </td><td>setosa    </td></tr>\n",
       "\t<tr><th scope=row>5</th><td>setosa    </td><td>setosa    </td></tr>\n",
       "\t<tr><th scope=row>8</th><td>setosa    </td><td>setosa    </td></tr>\n",
       "\t<tr><th scope=row>10</th><td>setosa    </td><td>setosa    </td></tr>\n",
       "\t<tr><th scope=row>13</th><td>setosa    </td><td>setosa    </td></tr>\n",
       "\t<tr><th scope=row>15</th><td>setosa    </td><td>setosa    </td></tr>\n",
       "\t<tr><th scope=row>18</th><td>setosa    </td><td>setosa    </td></tr>\n",
       "\t<tr><th scope=row>20</th><td>setosa    </td><td>setosa    </td></tr>\n",
       "\t<tr><th scope=row>23</th><td>setosa    </td><td>setosa    </td></tr>\n",
       "\t<tr><th scope=row>25</th><td>setosa    </td><td>setosa    </td></tr>\n",
       "\t<tr><th scope=row>28</th><td>setosa    </td><td>setosa    </td></tr>\n",
       "\t<tr><th scope=row>30</th><td>setosa    </td><td>setosa    </td></tr>\n",
       "\t<tr><th scope=row>33</th><td>setosa    </td><td>setosa    </td></tr>\n",
       "\t<tr><th scope=row>35</th><td>setosa    </td><td>setosa    </td></tr>\n",
       "\t<tr><th scope=row>38</th><td>setosa    </td><td>setosa    </td></tr>\n",
       "\t<tr><th scope=row>40</th><td>setosa    </td><td>setosa    </td></tr>\n",
       "\t<tr><th scope=row>43</th><td>setosa    </td><td>setosa    </td></tr>\n",
       "\t<tr><th scope=row>45</th><td>setosa    </td><td>setosa    </td></tr>\n",
       "\t<tr><th scope=row>48</th><td>setosa    </td><td>setosa    </td></tr>\n",
       "\t<tr><th scope=row>50</th><td>setosa    </td><td>setosa    </td></tr>\n",
       "\t<tr><th scope=row>53</th><td>versicolor</td><td>versicolor</td></tr>\n",
       "\t<tr><th scope=row>55</th><td>versicolor</td><td>versicolor</td></tr>\n",
       "\t<tr><th scope=row>58</th><td>versicolor</td><td>versicolor</td></tr>\n",
       "\t<tr><th scope=row>60</th><td>versicolor</td><td>versicolor</td></tr>\n",
       "\t<tr><th scope=row>63</th><td>versicolor</td><td>versicolor</td></tr>\n",
       "\t<tr><th scope=row>65</th><td>versicolor</td><td>versicolor</td></tr>\n",
       "\t<tr><th scope=row>68</th><td>versicolor</td><td>versicolor</td></tr>\n",
       "\t<tr><th scope=row>70</th><td>versicolor</td><td>versicolor</td></tr>\n",
       "\t<tr><th scope=row>73</th><td>versicolor</td><td>versicolor</td></tr>\n",
       "\t<tr><th scope=row>75</th><td>versicolor</td><td>versicolor</td></tr>\n",
       "\t<tr><th scope=row>78</th><td>versicolor</td><td>virginica </td></tr>\n",
       "\t<tr><th scope=row>80</th><td>versicolor</td><td>versicolor</td></tr>\n",
       "\t<tr><th scope=row>83</th><td>versicolor</td><td>versicolor</td></tr>\n",
       "\t<tr><th scope=row>85</th><td>versicolor</td><td>versicolor</td></tr>\n",
       "\t<tr><th scope=row>88</th><td>versicolor</td><td>versicolor</td></tr>\n",
       "\t<tr><th scope=row>90</th><td>versicolor</td><td>versicolor</td></tr>\n",
       "\t<tr><th scope=row>93</th><td>versicolor</td><td>versicolor</td></tr>\n",
       "\t<tr><th scope=row>95</th><td>versicolor</td><td>versicolor</td></tr>\n",
       "\t<tr><th scope=row>98</th><td>versicolor</td><td>versicolor</td></tr>\n",
       "\t<tr><th scope=row>100</th><td>versicolor</td><td>versicolor</td></tr>\n",
       "\t<tr><th scope=row>103</th><td>virginica </td><td>virginica </td></tr>\n",
       "\t<tr><th scope=row>105</th><td>virginica </td><td>virginica </td></tr>\n",
       "\t<tr><th scope=row>108</th><td>virginica </td><td>virginica </td></tr>\n",
       "\t<tr><th scope=row>110</th><td>virginica </td><td>virginica </td></tr>\n",
       "\t<tr><th scope=row>113</th><td>virginica </td><td>virginica </td></tr>\n",
       "\t<tr><th scope=row>115</th><td>virginica </td><td>virginica </td></tr>\n",
       "\t<tr><th scope=row>118</th><td>virginica </td><td>virginica </td></tr>\n",
       "\t<tr><th scope=row>120</th><td>virginica </td><td>versicolor</td></tr>\n",
       "\t<tr><th scope=row>123</th><td>virginica </td><td>virginica </td></tr>\n",
       "\t<tr><th scope=row>125</th><td>virginica </td><td>virginica </td></tr>\n",
       "\t<tr><th scope=row>128</th><td>virginica </td><td>virginica </td></tr>\n",
       "\t<tr><th scope=row>130</th><td>virginica </td><td>virginica </td></tr>\n",
       "\t<tr><th scope=row>133</th><td>virginica </td><td>virginica </td></tr>\n",
       "\t<tr><th scope=row>135</th><td>virginica </td><td>versicolor</td></tr>\n",
       "\t<tr><th scope=row>138</th><td>virginica </td><td>virginica </td></tr>\n",
       "\t<tr><th scope=row>140</th><td>virginica </td><td>virginica </td></tr>\n",
       "\t<tr><th scope=row>143</th><td>virginica </td><td>virginica </td></tr>\n",
       "\t<tr><th scope=row>145</th><td>virginica </td><td>virginica </td></tr>\n",
       "\t<tr><th scope=row>148</th><td>virginica </td><td>virginica </td></tr>\n",
       "\t<tr><th scope=row>150</th><td>virginica </td><td>virginica </td></tr>\n",
       "</tbody>\n",
       "</table>\n"
      ],
      "text/latex": [
       "A data.frame: 60 × 2\n",
       "\\begin{tabular}{r|ll}\n",
       "  & test.Species & pre\\\\\n",
       "  & <fct> & <fct>\\\\\n",
       "\\hline\n",
       "\t3 & setosa     & setosa    \\\\\n",
       "\t5 & setosa     & setosa    \\\\\n",
       "\t8 & setosa     & setosa    \\\\\n",
       "\t10 & setosa     & setosa    \\\\\n",
       "\t13 & setosa     & setosa    \\\\\n",
       "\t15 & setosa     & setosa    \\\\\n",
       "\t18 & setosa     & setosa    \\\\\n",
       "\t20 & setosa     & setosa    \\\\\n",
       "\t23 & setosa     & setosa    \\\\\n",
       "\t25 & setosa     & setosa    \\\\\n",
       "\t28 & setosa     & setosa    \\\\\n",
       "\t30 & setosa     & setosa    \\\\\n",
       "\t33 & setosa     & setosa    \\\\\n",
       "\t35 & setosa     & setosa    \\\\\n",
       "\t38 & setosa     & setosa    \\\\\n",
       "\t40 & setosa     & setosa    \\\\\n",
       "\t43 & setosa     & setosa    \\\\\n",
       "\t45 & setosa     & setosa    \\\\\n",
       "\t48 & setosa     & setosa    \\\\\n",
       "\t50 & setosa     & setosa    \\\\\n",
       "\t53 & versicolor & versicolor\\\\\n",
       "\t55 & versicolor & versicolor\\\\\n",
       "\t58 & versicolor & versicolor\\\\\n",
       "\t60 & versicolor & versicolor\\\\\n",
       "\t63 & versicolor & versicolor\\\\\n",
       "\t65 & versicolor & versicolor\\\\\n",
       "\t68 & versicolor & versicolor\\\\\n",
       "\t70 & versicolor & versicolor\\\\\n",
       "\t73 & versicolor & versicolor\\\\\n",
       "\t75 & versicolor & versicolor\\\\\n",
       "\t78 & versicolor & virginica \\\\\n",
       "\t80 & versicolor & versicolor\\\\\n",
       "\t83 & versicolor & versicolor\\\\\n",
       "\t85 & versicolor & versicolor\\\\\n",
       "\t88 & versicolor & versicolor\\\\\n",
       "\t90 & versicolor & versicolor\\\\\n",
       "\t93 & versicolor & versicolor\\\\\n",
       "\t95 & versicolor & versicolor\\\\\n",
       "\t98 & versicolor & versicolor\\\\\n",
       "\t100 & versicolor & versicolor\\\\\n",
       "\t103 & virginica  & virginica \\\\\n",
       "\t105 & virginica  & virginica \\\\\n",
       "\t108 & virginica  & virginica \\\\\n",
       "\t110 & virginica  & virginica \\\\\n",
       "\t113 & virginica  & virginica \\\\\n",
       "\t115 & virginica  & virginica \\\\\n",
       "\t118 & virginica  & virginica \\\\\n",
       "\t120 & virginica  & versicolor\\\\\n",
       "\t123 & virginica  & virginica \\\\\n",
       "\t125 & virginica  & virginica \\\\\n",
       "\t128 & virginica  & virginica \\\\\n",
       "\t130 & virginica  & virginica \\\\\n",
       "\t133 & virginica  & virginica \\\\\n",
       "\t135 & virginica  & versicolor\\\\\n",
       "\t138 & virginica  & virginica \\\\\n",
       "\t140 & virginica  & virginica \\\\\n",
       "\t143 & virginica  & virginica \\\\\n",
       "\t145 & virginica  & virginica \\\\\n",
       "\t148 & virginica  & virginica \\\\\n",
       "\t150 & virginica  & virginica \\\\\n",
       "\\end{tabular}\n"
      ],
      "text/markdown": [
       "\n",
       "A data.frame: 60 × 2\n",
       "\n",
       "| <!--/--> | test.Species &lt;fct&gt; | pre &lt;fct&gt; |\n",
       "|---|---|---|\n",
       "| 3 | setosa     | setosa     |\n",
       "| 5 | setosa     | setosa     |\n",
       "| 8 | setosa     | setosa     |\n",
       "| 10 | setosa     | setosa     |\n",
       "| 13 | setosa     | setosa     |\n",
       "| 15 | setosa     | setosa     |\n",
       "| 18 | setosa     | setosa     |\n",
       "| 20 | setosa     | setosa     |\n",
       "| 23 | setosa     | setosa     |\n",
       "| 25 | setosa     | setosa     |\n",
       "| 28 | setosa     | setosa     |\n",
       "| 30 | setosa     | setosa     |\n",
       "| 33 | setosa     | setosa     |\n",
       "| 35 | setosa     | setosa     |\n",
       "| 38 | setosa     | setosa     |\n",
       "| 40 | setosa     | setosa     |\n",
       "| 43 | setosa     | setosa     |\n",
       "| 45 | setosa     | setosa     |\n",
       "| 48 | setosa     | setosa     |\n",
       "| 50 | setosa     | setosa     |\n",
       "| 53 | versicolor | versicolor |\n",
       "| 55 | versicolor | versicolor |\n",
       "| 58 | versicolor | versicolor |\n",
       "| 60 | versicolor | versicolor |\n",
       "| 63 | versicolor | versicolor |\n",
       "| 65 | versicolor | versicolor |\n",
       "| 68 | versicolor | versicolor |\n",
       "| 70 | versicolor | versicolor |\n",
       "| 73 | versicolor | versicolor |\n",
       "| 75 | versicolor | versicolor |\n",
       "| 78 | versicolor | virginica  |\n",
       "| 80 | versicolor | versicolor |\n",
       "| 83 | versicolor | versicolor |\n",
       "| 85 | versicolor | versicolor |\n",
       "| 88 | versicolor | versicolor |\n",
       "| 90 | versicolor | versicolor |\n",
       "| 93 | versicolor | versicolor |\n",
       "| 95 | versicolor | versicolor |\n",
       "| 98 | versicolor | versicolor |\n",
       "| 100 | versicolor | versicolor |\n",
       "| 103 | virginica  | virginica  |\n",
       "| 105 | virginica  | virginica  |\n",
       "| 108 | virginica  | virginica  |\n",
       "| 110 | virginica  | virginica  |\n",
       "| 113 | virginica  | virginica  |\n",
       "| 115 | virginica  | virginica  |\n",
       "| 118 | virginica  | virginica  |\n",
       "| 120 | virginica  | versicolor |\n",
       "| 123 | virginica  | virginica  |\n",
       "| 125 | virginica  | virginica  |\n",
       "| 128 | virginica  | virginica  |\n",
       "| 130 | virginica  | virginica  |\n",
       "| 133 | virginica  | virginica  |\n",
       "| 135 | virginica  | versicolor |\n",
       "| 138 | virginica  | virginica  |\n",
       "| 140 | virginica  | virginica  |\n",
       "| 143 | virginica  | virginica  |\n",
       "| 145 | virginica  | virginica  |\n",
       "| 148 | virginica  | virginica  |\n",
       "| 150 | virginica  | virginica  |\n",
       "\n"
      ],
      "text/plain": [
       "    test.Species pre       \n",
       "3   setosa       setosa    \n",
       "5   setosa       setosa    \n",
       "8   setosa       setosa    \n",
       "10  setosa       setosa    \n",
       "13  setosa       setosa    \n",
       "15  setosa       setosa    \n",
       "18  setosa       setosa    \n",
       "20  setosa       setosa    \n",
       "23  setosa       setosa    \n",
       "25  setosa       setosa    \n",
       "28  setosa       setosa    \n",
       "30  setosa       setosa    \n",
       "33  setosa       setosa    \n",
       "35  setosa       setosa    \n",
       "38  setosa       setosa    \n",
       "40  setosa       setosa    \n",
       "43  setosa       setosa    \n",
       "45  setosa       setosa    \n",
       "48  setosa       setosa    \n",
       "50  setosa       setosa    \n",
       "53  versicolor   versicolor\n",
       "55  versicolor   versicolor\n",
       "58  versicolor   versicolor\n",
       "60  versicolor   versicolor\n",
       "63  versicolor   versicolor\n",
       "65  versicolor   versicolor\n",
       "68  versicolor   versicolor\n",
       "70  versicolor   versicolor\n",
       "73  versicolor   versicolor\n",
       "75  versicolor   versicolor\n",
       "78  versicolor   virginica \n",
       "80  versicolor   versicolor\n",
       "83  versicolor   versicolor\n",
       "85  versicolor   versicolor\n",
       "88  versicolor   versicolor\n",
       "90  versicolor   versicolor\n",
       "93  versicolor   versicolor\n",
       "95  versicolor   versicolor\n",
       "98  versicolor   versicolor\n",
       "100 versicolor   versicolor\n",
       "103 virginica    virginica \n",
       "105 virginica    virginica \n",
       "108 virginica    virginica \n",
       "110 virginica    virginica \n",
       "113 virginica    virginica \n",
       "115 virginica    virginica \n",
       "118 virginica    virginica \n",
       "120 virginica    versicolor\n",
       "123 virginica    virginica \n",
       "125 virginica    virginica \n",
       "128 virginica    virginica \n",
       "130 virginica    virginica \n",
       "133 virginica    virginica \n",
       "135 virginica    versicolor\n",
       "138 virginica    virginica \n",
       "140 virginica    virginica \n",
       "143 virginica    virginica \n",
       "145 virginica    virginica \n",
       "148 virginica    virginica \n",
       "150 virginica    virginica "
      ]
     },
     "metadata": {},
     "output_type": "display_data"
    }
   ],
   "source": [
    "df = data.frame(test$Species,pre)\n",
    "df"
   ]
  },
  {
   "cell_type": "code",
   "execution_count": 12,
   "id": "41543e3e",
   "metadata": {},
   "outputs": [
    {
     "data": {
      "text/plain": [
       "\n",
       "    setosa versicolor  virginica \n",
       "        20         20         20 "
      ]
     },
     "metadata": {},
     "output_type": "display_data"
    },
    {
     "data": {
      "text/plain": [
       "pre\n",
       "    setosa versicolor  virginica \n",
       "        20         21         19 "
      ]
     },
     "metadata": {},
     "output_type": "display_data"
    },
    {
     "data": {
      "image/png": "[encoded data removed]",
      "text/plain": [
       "Plot with title \"modle\""
      ]
     },
     "metadata": {
      "image/png": {
       "height": 420,
       "width": 420
      }
     },
     "output_type": "display_data"
    }
   ],
   "source": [
    "plot(modle)\n",
    "table(test$Species)\n",
    "table(pre)\n"
   ]
  },
  {
   "cell_type": "code",
   "execution_count": 13,
   "id": "47564a0e",
   "metadata": {},
   "outputs": [
    {
     "data": {
      "image/png": "[encoded data removed]",
      "text/plain": [
       "plot without title"
      ]
     },
     "metadata": {
      "image/png": {
       "height": 420,
       "width": 420
      }
     },
     "output_type": "display_data"
    }
   ],
   "source": [
    "plot(pre,col = c(1:3))"
   ]
  },
  {
   "cell_type": "code",
   "execution_count": null,
   "id": "ce4efa69",
   "metadata": {},
   "outputs": [],
   "source": []
  }
 ],
 "metadata": {
  "kernelspec": {
   "display_name": "R",
   "language": "R",
   "name": "ir"
  },
  "language_info": {
   "codemirror_mode": "r",
   "file_extension": ".r",
   "mimetype": "text/x-r-source",
   "name": "R",
   "pygments_lexer": "r",
   "version": "4.0.3"
  }
 },
 "nbformat": 4,
 "nbformat_minor": 5
}
